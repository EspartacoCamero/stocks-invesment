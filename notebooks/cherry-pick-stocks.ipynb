{
 "cells": [
  {
   "cell_type": "code",
   "execution_count": null,
   "metadata": {},
   "outputs": [],
   "source": [
    "import pandas as pd\n",
    "import datetime as dt\n",
    "import numpy as np\n",
    "import matplotlib.pyplot as plt\n",
    "import seaborn as sns\n",
    "import datetime as dt\n",
    "from scipy.stats import skew, kurtosis, shapiro\n",
    "plt.style.use(['bmh'])\n",
    "import talib\n",
    "from pandas_datareader import data as pdr\n",
    "import yfinance as yfin\n",
    "yfin.pdr_override()\n",
    "import yaml\n",
    "from utils import utils"
   ]
  },
  {
   "cell_type": "code",
   "execution_count": null,
   "metadata": {},
   "outputs": [],
   "source": [
    "all_config = yaml.safe_load(open(\"../config_file.yml\", \"r\"))"
   ]
  },
  {
   "cell_type": "code",
   "execution_count": null,
   "metadata": {},
   "outputs": [],
   "source": [
    "df_input = utils.get_ticks_data('../src/data/example_data.csv')"
   ]
  },
  {
   "cell_type": "code",
   "execution_count": null,
   "metadata": {},
   "outputs": [],
   "source": [
    "start_date, end_date = utils.get_start_end(all_config)\n",
    "source = all_config['stocks']['source']\n",
    "metric = all_config['stocks']['metric']\n",
    "ticks = df_input['TICK'].to_list()"
   ]
  },
  {
   "cell_type": "code",
   "execution_count": null,
   "metadata": {},
   "outputs": [],
   "source": [
    "end_date"
   ]
  },
  {
   "cell_type": "code",
   "execution_count": null,
   "metadata": {},
   "outputs": [],
   "source": [
    "df = utils.get_stock_data(ticks, start_date, end_date, col=metric)"
   ]
  },
  {
   "cell_type": "code",
   "execution_count": null,
   "metadata": {},
   "outputs": [],
   "source": [
    "df_clean = pd.DataFrame(columns=['price', 'stock', 'rsi', 'ema_12', 'ema_26', 'bb_low', 'bb_mid', 'bb_up'])\n",
    "for col in df.columns.to_list():\n",
    "    df_aux = pd.DataFrame()\n",
    "    df_aux = df[[col]]\n",
    "    df_aux.columns = ['price']\n",
    "    df_aux['stock'] = col\n",
    "    df_aux['rsi'] = talib.RSI(df.loc[:, col])\n",
    "    df_aux['ema_12'] = talib.EMA(df.loc[:, col], 12)\n",
    "    df_aux['ema_26'] = talib.EMA(df.loc[:, col], 26)\n",
    "    df_aux['ema_50'] = talib.EMA(df.loc[:, col], 50)\n",
    "    upper_1sd, mid_1sd, lower_1sd = talib.BBANDS(df.loc[:, col], nbdevup=1, nbdevdn=1, timeperiod=20)\n",
    "    df_aux['bb_low'] = upper_1sd\n",
    "    df_aux['bb_mid'] = mid_1sd\n",
    "    df_aux['bb_up'] = lower_1sd\n",
    "    df_clean = df_clean.append(df_aux)"
   ]
  },
  {
   "cell_type": "code",
   "execution_count": null,
   "metadata": {},
   "outputs": [],
   "source": [
    "df_clean['rsi_f'] = np.where(df_clean['rsi'] <= 45, 1, 0)\n",
    "df_clean['bb_f'] = np.where(df_clean['price'] <= df_clean['bb_low'], 1, 0)\n",
    "df_clean['ema_f'] = np.where(df_clean['ema_12'] >= df_clean['ema_26'], 1, 0)\n",
    "df_clean['score'] = df_clean['ema_f'] + df_clean['rsi_f'] + df_clean['bb_f']"
   ]
  },
  {
   "cell_type": "code",
   "execution_count": null,
   "metadata": {},
   "outputs": [],
   "source": [
    "date_max = (max(df_clean.index)).strftime(\"%Y-%m-%d\")\n",
    "df_clean[(df_clean['score']>=2) & (df_clean.index==date_max)].sort_values('score', ascending=False)"
   ]
  },
  {
   "cell_type": "markdown",
   "metadata": {},
   "source": [
    "### Pending"
   ]
  },
  {
   "cell_type": "code",
   "execution_count": null,
   "metadata": {},
   "outputs": [],
   "source": [
    "df_test = df['AAPL']"
   ]
  },
  {
   "cell_type": "code",
   "execution_count": null,
   "metadata": {},
   "outputs": [],
   "source": [
    "talib.RSI(df[]).plot(figsize=(20,5))"
   ]
  },
  {
   "cell_type": "code",
   "execution_count": null,
   "metadata": {},
   "outputs": [],
   "source": [
    "df[['APPL']].plot(figsize=(20,8))"
   ]
  },
  {
   "cell_type": "code",
   "execution_count": null,
   "metadata": {},
   "outputs": [],
   "source": [
    "upper_1sd, mid_1sd, lower_1sd = talib.BBANDS(df[tk], \n",
    "                                     nbdevup=1,\n",
    "                                     nbdevdn=1,\n",
    "                                     timeperiod=20)\n",
    "# Plot the upper and lower Bollinger Bands \n",
    "plt.figure(figsize=(20,8))\n",
    "plt.plot(df[tk], color='green', label='Price')\n",
    "plt.plot(upper_1sd, color='tomato', label=\"Upper 1sd\")\n",
    "plt.plot(lower_1sd, color='tomato', label='Lower 2sd')\n",
    "\n",
    "# Customize and show the plot\n",
    "plt.legend(loc='upper left')\n",
    "plt.title('Bollinger Bands (1sd)')\n",
    "plt.show()\n"
   ]
  },
  {
   "cell_type": "code",
   "execution_count": null,
   "metadata": {},
   "outputs": [],
   "source": []
  }
 ],
 "metadata": {
  "kernelspec": {
   "display_name": "Python 3",
   "language": "python",
   "name": "python3"
  },
  "language_info": {
   "codemirror_mode": {
    "name": "ipython",
    "version": 3
   },
   "file_extension": ".py",
   "mimetype": "text/x-python",
   "name": "python",
   "nbconvert_exporter": "python",
   "pygments_lexer": "ipython3",
   "version": "3.5.2"
  }
 },
 "nbformat": 4,
 "nbformat_minor": 4
}
