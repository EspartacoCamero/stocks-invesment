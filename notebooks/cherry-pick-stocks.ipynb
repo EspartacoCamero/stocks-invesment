{
 "cells": [
  {
   "cell_type": "code",
   "execution_count": null,
   "metadata": {},
   "outputs": [],
   "source": [
    "%load_ext autoreload\n",
    "%autoreload 2"
   ]
  },
  {
   "cell_type": "code",
   "execution_count": null,
   "metadata": {},
   "outputs": [],
   "source": [
    "import pandas as pd\n",
    "import datetime as dt\n",
    "import numpy as np\n",
    "import matplotlib.pyplot as plt\n",
    "import seaborn as sns\n",
    "import datetime as dt\n",
    "from scipy.stats import skew, kurtosis, shapiro\n",
    "plt.style.use(['bmh'])\n",
    "import talib\n",
    "from pandas_datareader import data as pdr\n",
    "import yfinance as yfin\n",
    "yfin.pdr_override()\n",
    "import yaml\n",
    "from utils import utils, telebot"
   ]
  },
  {
   "cell_type": "code",
   "execution_count": null,
   "metadata": {},
   "outputs": [],
   "source": [
    "all_config = yaml.safe_load(open(\"../config_file.yml\", \"r\"))"
   ]
  },
  {
   "cell_type": "code",
   "execution_count": null,
   "metadata": {},
   "outputs": [],
   "source": [
    "df_input = utils.get_ticks_data('../src/data/example_data.csv')"
   ]
  },
  {
   "cell_type": "code",
   "execution_count": null,
   "metadata": {},
   "outputs": [],
   "source": [
    "start_date, end_date = utils.get_start_end(all_config)\n",
    "source = all_config['stocks']['source']\n",
    "metric = all_config['stocks']['metric']\n",
    "ticks = df_input['TICK'].to_list()"
   ]
  },
  {
   "cell_type": "code",
   "execution_count": null,
   "metadata": {},
   "outputs": [],
   "source": [
    "df = utils.get_stock_data(ticks, start_date, end_date, col=metric)"
   ]
  },
  {
   "cell_type": "code",
   "execution_count": null,
   "metadata": {},
   "outputs": [],
   "source": [
    "print(\"Following ticks will be analyzed: \\n %s\" % df.columns)"
   ]
  },
  {
   "cell_type": "code",
   "execution_count": null,
   "metadata": {},
   "outputs": [],
   "source": [
    "df_clean = utils.get_metrics(df, all_config['model']['kpis'])"
   ]
  },
  {
   "cell_type": "code",
   "execution_count": null,
   "metadata": {},
   "outputs": [],
   "source": [
    "df_clean['rsi_f'] = np.where(df_clean['rsi'] <= 45, 1, 0)\n",
    "df_clean['bb_f'] = np.where(df_clean['price'] <= df_clean['bb_low'], 1, 0)\n",
    "df_clean['ema_f'] = np.where(df_clean['ema_low'] >= df_clean['ema_up'], 1, 0)\n",
    "df_clean['score'] = df_clean['ema_f'] + df_clean['rsi_f'] + df_clean['bb_f']"
   ]
  },
  {
   "cell_type": "code",
   "execution_count": null,
   "metadata": {},
   "outputs": [],
   "source": [
    "date_max = (max(df_clean.index)).strftime(\"%Y-%m-%d\")\n",
    "dflags = df_clean[(df_clean['score']>=2) & (df_clean.index==date_max)].sort_values('score', ascending=False)"
   ]
  },
  {
   "cell_type": "code",
   "execution_count": null,
   "metadata": {},
   "outputs": [],
   "source": [
    "dflags"
   ]
  },
  {
   "cell_type": "code",
   "execution_count": null,
   "metadata": {},
   "outputs": [],
   "source": [
    "test = df_clean[df_clean['stock']=='AAPL']"
   ]
  },
  {
   "cell_type": "code",
   "execution_count": null,
   "metadata": {},
   "outputs": [],
   "source": [
    "talib.EMA(test['price'], 26)"
   ]
  },
  {
   "cell_type": "markdown",
   "metadata": {},
   "source": [
    "### Pending"
   ]
  },
  {
   "cell_type": "code",
   "execution_count": null,
   "metadata": {},
   "outputs": [],
   "source": [
    "df_test = df['AAPL']"
   ]
  },
  {
   "cell_type": "code",
   "execution_count": null,
   "metadata": {},
   "outputs": [],
   "source": [
    "talib.RSI(df[]).plot(figsize=(20,5))"
   ]
  },
  {
   "cell_type": "code",
   "execution_count": null,
   "metadata": {},
   "outputs": [],
   "source": [
    "df[['APPL']].plot(figsize=(20,8))"
   ]
  },
  {
   "cell_type": "code",
   "execution_count": null,
   "metadata": {},
   "outputs": [],
   "source": [
    "upper_1sd, mid_1sd, lower_1sd = talib.BBANDS(df[tk], \n",
    "                                     nbdevup=1,\n",
    "                                     nbdevdn=1,\n",
    "                                     timeperiod=20)\n",
    "# Plot the upper and lower Bollinger Bands \n",
    "plt.figure(figsize=(20,8))\n",
    "plt.plot(df[tk], color='green', label='Price')\n",
    "plt.plot(upper_1sd, color='tomato', label=\"Upper 1sd\")\n",
    "plt.plot(lower_1sd, color='tomato', label='Lower 2sd')\n",
    "\n",
    "# Customize and show the plot\n",
    "plt.legend(loc='upper left')\n",
    "plt.title('Bollinger Bands (1sd)')\n",
    "plt.show()\n"
   ]
  },
  {
   "cell_type": "code",
   "execution_count": null,
   "metadata": {},
   "outputs": [],
   "source": []
  },
  {
   "cell_type": "markdown",
   "metadata": {},
   "source": [
    "# Telegram\n",
    "1. Create a bot, a Telegram chat group and add the bot on it\n",
    "2. Add the bot by using /my_id @<bot name> \n",
    "3. get the chat id"
   ]
  },
  {
   "cell_type": "code",
   "execution_count": null,
   "metadata": {},
   "outputs": [],
   "source": [
    "token = all_config['bot']['chat_token']\n",
    "chat_id = all_config['bot']['chat_id']"
   ]
  },
  {
   "cell_type": "code",
   "execution_count": null,
   "metadata": {},
   "outputs": [],
   "source": [
    "bot = telebot.Tabot(token)"
   ]
  },
  {
   "cell_type": "code",
   "execution_count": null,
   "metadata": {},
   "outputs": [],
   "source": [
    "print(type(bot))"
   ]
  },
  {
   "cell_type": "code",
   "execution_count": null,
   "metadata": {},
   "outputs": [],
   "source": [
    "bot.chat_id"
   ]
  },
  {
   "cell_type": "code",
   "execution_count": null,
   "metadata": {},
   "outputs": [],
   "source": [
    "bot.get_chat_id()"
   ]
  },
  {
   "cell_type": "code",
   "execution_count": null,
   "metadata": {},
   "outputs": [],
   "source": [
    "bot.check_bot()"
   ]
  },
  {
   "cell_type": "markdown",
   "metadata": {},
   "source": [
    "### Sending the msg"
   ]
  },
  {
   "cell_type": "code",
   "execution_count": null,
   "metadata": {},
   "outputs": [],
   "source": [
    "total_ticks = len(df.columns)\n",
    "msg_ticks = len(dflags.stock)"
   ]
  },
  {
   "cell_type": "code",
   "execution_count": null,
   "metadata": {},
   "outputs": [],
   "source": [
    "msg_title = \"Stocks KPIs for {end_date}: \\nWe got {msg_ticks} possible ticks from {total_ticks} \\n\".format(end_date=end_date, msg_ticks=msg_ticks,total_ticks=total_ticks)\n",
    "msg_header = '\\nTICK \\t PRICE RSI RSI_F BB_F EMA_F FLAGS\\n'"
   ]
  },
  {
   "cell_type": "code",
   "execution_count": null,
   "metadata": {},
   "outputs": [],
   "source": [
    "msgs = []\n",
    "for row in dflags.itertuples():\n",
    "    msgs.append('{s}   \\t {p}\\t {rsi} {rsi_f} {bb_f} {ema_f} {score} \\n'.\\\n",
    "                format(s=row.stock, p=np.round(row.price,1), rsi=np.round(row.rsi, 1), rsi_f=row.rsi_f,bb_f= row.bb_f, ema_f=row.ema_f, score= row.score))\n",
    "\n",
    "msg_formated = ' '.join(msgs)"
   ]
  },
  {
   "cell_type": "code",
   "execution_count": null,
   "metadata": {},
   "outputs": [],
   "source": [
    "message = msg_title + msg_header + msg_formated"
   ]
  },
  {
   "cell_type": "code",
   "execution_count": null,
   "metadata": {},
   "outputs": [],
   "source": [
    "bot.send_message(message)"
   ]
  },
  {
   "cell_type": "code",
   "execution_count": null,
   "metadata": {},
   "outputs": [],
   "source": []
  }
 ],
 "metadata": {
  "kernelspec": {
   "display_name": "Python 3",
   "language": "python",
   "name": "python3"
  },
  "language_info": {
   "codemirror_mode": {
    "name": "ipython",
    "version": 3
   },
   "file_extension": ".py",
   "mimetype": "text/x-python",
   "name": "python",
   "nbconvert_exporter": "python",
   "pygments_lexer": "ipython3",
   "version": "3.5.2"
  }
 },
 "nbformat": 4,
 "nbformat_minor": 4
}
