{
 "cells": [
  {
   "cell_type": "code",
   "execution_count": null,
   "metadata": {},
   "outputs": [],
   "source": [
    "%load_ext autoreload\n",
    "%autoreload 2"
   ]
  },
  {
   "cell_type": "code",
   "execution_count": null,
   "metadata": {},
   "outputs": [],
   "source": [
    "import pandas as pd\n",
    "import datetime as dt\n",
    "import numpy as np\n",
    "import matplotlib.pyplot as plt\n",
    "import seaborn as sns\n",
    "import datetime as dt\n",
    "from scipy.stats import skew, kurtosis, shapiro\n",
    "plt.style.use(['bmh'])\n",
    "import talib\n",
    "from pandas_datareader import data as pdr\n",
    "import yfinance as yfin\n",
    "yfin.pdr_override()\n",
    "import yaml\n",
    "from utils import utils, telebot"
   ]
  },
  {
   "cell_type": "code",
   "execution_count": null,
   "metadata": {},
   "outputs": [],
   "source": [
    "all_config = yaml.safe_load(open(\"../config_file.yml\", \"r\"))"
   ]
  },
  {
   "cell_type": "code",
   "execution_count": null,
   "metadata": {},
   "outputs": [],
   "source": [
    "df_input = utils.get_ticks_data('../src/data/example_data.csv')"
   ]
  },
  {
   "cell_type": "code",
   "execution_count": null,
   "metadata": {},
   "outputs": [],
   "source": [
    "start_date, end_date = utils.get_start_end(all_config)\n",
    "source = all_config['stocks']['source']\n",
    "metric = all_config['stocks']['metric']\n",
    "ticks = df_input['TICK'].to_list()"
   ]
  },
  {
   "cell_type": "code",
   "execution_count": null,
   "metadata": {},
   "outputs": [],
   "source": [
    "test = all_config['model']['kpis']"
   ]
  },
  {
   "cell_type": "code",
   "execution_count": null,
   "metadata": {},
   "outputs": [],
   "source": [
    "teest = {'rsi': [True]}"
   ]
  },
  {
   "cell_type": "code",
   "execution_count": null,
   "metadata": {},
   "outputs": [],
   "source": [
    "teest.values()"
   ]
  },
  {
   "cell_type": "code",
   "execution_count": null,
   "metadata": {},
   "outputs": [],
   "source": [
    "columns = ['price', 'stock']\n",
    "for i in test:\n",
    "    dict_key = list(i.keys())\n",
    "    if dict_key[0] == 'rsi':\n",
    "        if i['rsi'][0]==True:\n",
    "            columns.append('rsi')\n",
    "    if dict_key[0] == 'sma':\n",
    "        if i['sma'][0]==True:\n",
    "            columns = columns + ['sma_low', 'sma_up']\n",
    "            sma= i\n",
    "    if dict_key[0] == 'bbands':\n",
    "        if i['bbands'][0]==True:\n",
    "            columns = columns + ['bb_low', 'bb_mid', 'bb_up']\n",
    "            bbands = i\n",
    "    if dict_key[0] == 'ema':\n",
    "        if i['ema'][0]==True:\n",
    "            columns = columns + ['ema_low', 'ema_up']\n",
    "            ema = i"
   ]
  },
  {
   "cell_type": "code",
   "execution_count": null,
   "metadata": {},
   "outputs": [],
   "source": [
    "columns"
   ]
  },
  {
   "cell_type": "code",
   "execution_count": null,
   "metadata": {},
   "outputs": [],
   "source": [
    "df = utils.get_stock_data(ticks, start_date, end_date, col=metric)"
   ]
  },
  {
   "cell_type": "code",
   "execution_count": null,
   "metadata": {},
   "outputs": [],
   "source": [
    "print(\"Following ticks will be analyzed: \\n %s\" % df.columns)"
   ]
  },
  {
   "cell_type": "code",
   "execution_count": null,
   "metadata": {},
   "outputs": [],
   "source": [
    "df_clean = utils.get_metrics(df, all_config['model']['kpis'])"
   ]
  },
  {
   "cell_type": "code",
   "execution_count": null,
   "metadata": {},
   "outputs": [],
   "source": [
    "df_clean['rsi_f'] = np.where(df_clean['rsi'] <= 45, 1, 0)\n",
    "df_clean['bb_f'] = np.where(df_clean['price'] <= df_clean['bb_low'], 1, 0)\n",
    "df_clean['ema_f'] = np.where(df_clean['ema_low'] >= df_clean['ema_high'], 1, 0)\n",
    "df_clean['score'] = df_clean['ema_f'] + df_clean['rsi_f'] + df_clean['bb_f']"
   ]
  },
  {
   "cell_type": "code",
   "execution_count": null,
   "metadata": {},
   "outputs": [],
   "source": [
    "date_max = (max(df_clean.index)).strftime(\"%Y-%m-%d\")\n",
    "df_clean[(df_clean['score']>=2) & (df_clean.index==date_max)].sort_values('score', ascending=False)"
   ]
  },
  {
   "cell_type": "code",
   "execution_count": null,
   "metadata": {},
   "outputs": [],
   "source": []
  },
  {
   "cell_type": "code",
   "execution_count": null,
   "metadata": {},
   "outputs": [],
   "source": []
  },
  {
   "cell_type": "code",
   "execution_count": null,
   "metadata": {},
   "outputs": [],
   "source": []
  },
  {
   "cell_type": "markdown",
   "metadata": {},
   "source": [
    "### Pending"
   ]
  },
  {
   "cell_type": "code",
   "execution_count": null,
   "metadata": {},
   "outputs": [],
   "source": [
    "df_test = df['AAPL']"
   ]
  },
  {
   "cell_type": "code",
   "execution_count": null,
   "metadata": {},
   "outputs": [],
   "source": [
    "talib.RSI(df[]).plot(figsize=(20,5))"
   ]
  },
  {
   "cell_type": "code",
   "execution_count": null,
   "metadata": {},
   "outputs": [],
   "source": [
    "df[['APPL']].plot(figsize=(20,8))"
   ]
  },
  {
   "cell_type": "code",
   "execution_count": null,
   "metadata": {},
   "outputs": [],
   "source": [
    "upper_1sd, mid_1sd, lower_1sd = talib.BBANDS(df[tk], \n",
    "                                     nbdevup=1,\n",
    "                                     nbdevdn=1,\n",
    "                                     timeperiod=20)\n",
    "# Plot the upper and lower Bollinger Bands \n",
    "plt.figure(figsize=(20,8))\n",
    "plt.plot(df[tk], color='green', label='Price')\n",
    "plt.plot(upper_1sd, color='tomato', label=\"Upper 1sd\")\n",
    "plt.plot(lower_1sd, color='tomato', label='Lower 2sd')\n",
    "\n",
    "# Customize and show the plot\n",
    "plt.legend(loc='upper left')\n",
    "plt.title('Bollinger Bands (1sd)')\n",
    "plt.show()\n"
   ]
  },
  {
   "cell_type": "code",
   "execution_count": null,
   "metadata": {},
   "outputs": [],
   "source": []
  },
  {
   "cell_type": "code",
   "execution_count": null,
   "metadata": {},
   "outputs": [],
   "source": [
    "bot_url =  'https://api.telegram.org/bot'\n",
    "bot_token = '5675115970:AAFxftIMTUwBrJtOMRfPZjI3e3_3kFy0YKU'\n",
    "chat_id = -826738760"
   ]
  },
  {
   "cell_type": "markdown",
   "metadata": {},
   "source": [
    "# Telegram\n",
    "1. Create a bot, a Telegram chat group and add the bot on it\n",
    "2. Add the bot by using /my_id @<bot name> \n",
    "3. get the chat id: 826738760"
   ]
  },
  {
   "cell_type": "code",
   "execution_count": null,
   "metadata": {},
   "outputs": [],
   "source": [
    "https://api.telegram.org/bot5675115970:AAFxftIMTUwBrJtOMRfPZjI3e3_3kFy0YKU/getUpdates"
   ]
  },
  {
   "cell_type": "code",
   "execution_count": null,
   "metadata": {},
   "outputs": [],
   "source": [
    "def tg_send_msg():"
   ]
  },
  {
   "cell_type": "code",
   "execution_count": null,
   "metadata": {},
   "outputs": [],
   "source": [
    "msg_text = 'Esto es una prueba'"
   ]
  },
  {
   "cell_type": "code",
   "execution_count": null,
   "metadata": {},
   "outputs": [],
   "source": [
    "print('https://api.telegram.org/bot5675115970:AAFxftIMTUwBrJtOMRfPZjI3e3_3kFy0YKU/sendMessage?chat_id='+str(chat_id)+'&text=\"'+msg_text+'\"')"
   ]
  },
  {
   "cell_type": "code",
   "execution_count": null,
   "metadata": {},
   "outputs": [],
   "source": [
    "bot = telebot.Tabot(bot_token, 121)"
   ]
  },
  {
   "cell_type": "code",
   "execution_count": null,
   "metadata": {},
   "outputs": [],
   "source": [
    "print(type(bot))"
   ]
  },
  {
   "cell_type": "code",
   "execution_count": null,
   "metadata": {},
   "outputs": [],
   "source": [
    "print(bot)"
   ]
  },
  {
   "cell_type": "code",
   "execution_count": null,
   "metadata": {},
   "outputs": [],
   "source": [
    "bot.BOT_URL"
   ]
  },
  {
   "cell_type": "code",
   "execution_count": null,
   "metadata": {},
   "outputs": [],
   "source": [
    "bot.get_chat_id()"
   ]
  },
  {
   "cell_type": "code",
   "execution_count": null,
   "metadata": {},
   "outputs": [],
   "source": [
    "https://api.telegram.org/bot/5675115970:AAFxftIMTUwBrJtOMRfPZjI3e3_3kFy0YKU/getUpdates\n",
    "\n",
    "https://api.telegram.org/bot5675115970:AAFxftIMTUwBrJtOMRfPZjI3e3_3kFy0YKU/getUpdates"
   ]
  },
  {
   "cell_type": "code",
   "execution_count": null,
   "metadata": {},
   "outputs": [],
   "source": [
    "class Employee:\n",
    "  MIN_SALARY = 30000    \n",
    "\n",
    "  def __init__(self, name, salary=MIN_SALARY):\n",
    "      self.name = name\n",
    "      if salary >= Employee.MIN_SALARY:\n",
    "        self.salary = salary\n",
    "      else:\n",
    "        self.salary = Employee.MIN_SALARY\n",
    "  def give_raise(self, amount):\n",
    "    self.salary += amount      \n",
    "        \n",
    "# MODIFY Manager class and add a display method\n",
    "class Manager(Employee):\n",
    "  def display(self):\n",
    "      print('Manager' + self.name)\n",
    "\n",
    "mng = Manager(\"Debbie Lashko\", 86500)\n",
    "print(mng.name)\n",
    "\n",
    "# Call mng.display()\n",
    "print(mng.display())\n",
    "\n"
   ]
  },
  {
   "cell_type": "code",
   "execution_count": null,
   "metadata": {},
   "outputs": [],
   "source": [
    "mng.MIN_SALARY"
   ]
  },
  {
   "cell_type": "code",
   "execution_count": null,
   "metadata": {},
   "outputs": [],
   "source": []
  }
 ],
 "metadata": {
  "kernelspec": {
   "display_name": "Python 3",
   "language": "python",
   "name": "python3"
  },
  "language_info": {
   "codemirror_mode": {
    "name": "ipython",
    "version": 3
   },
   "file_extension": ".py",
   "mimetype": "text/x-python",
   "name": "python",
   "nbconvert_exporter": "python",
   "pygments_lexer": "ipython3",
   "version": "3.5.2"
  }
 },
 "nbformat": 4,
 "nbformat_minor": 4
}
